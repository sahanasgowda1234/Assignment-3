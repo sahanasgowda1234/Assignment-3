{
 "cells": [
  {
   "cell_type": "code",
   "execution_count": 2,
   "id": "b712d76a",
   "metadata": {},
   "outputs": [
    {
     "name": "stdout",
     "output_type": "stream",
     "text": [
      "Enter a string :1234abcd\n",
      "The original string is :  1234abcd\n",
      "The reverse string is : dcba4321\n"
     ]
    }
   ],
   "source": [
    "#Write a Python program to reverse a string.\n",
    "\n",
    "#Sample String : \"1234abcd\"\n",
    "#Expected Output : \"dcba4321\"\n",
    "\n",
    "def reverse_string(str):  \n",
    "    str1 = \"\"   \n",
    "    for i in str:  \n",
    "        str1 = i + str1  \n",
    "    return str1    \n",
    "\n",
    "str = input (\"Enter a string :\")       \n",
    "print(\"The original string is : \",str)  \n",
    "print(\"The reverse string is :\",reverse_string(str))"
   ]
  },
  {
   "cell_type": "code",
   "execution_count": null,
   "id": "f3020476",
   "metadata": {},
   "outputs": [],
   "source": []
  }
 ],
 "metadata": {
  "kernelspec": {
   "display_name": "Python 3 (ipykernel)",
   "language": "python",
   "name": "python3"
  },
  "language_info": {
   "codemirror_mode": {
    "name": "ipython",
    "version": 3
   },
   "file_extension": ".py",
   "mimetype": "text/x-python",
   "name": "python",
   "nbconvert_exporter": "python",
   "pygments_lexer": "ipython3",
   "version": "3.9.12"
  }
 },
 "nbformat": 4,
 "nbformat_minor": 5
}
