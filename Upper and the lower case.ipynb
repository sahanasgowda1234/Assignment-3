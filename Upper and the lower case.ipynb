{
 "cells": [
  {
   "cell_type": "code",
   "execution_count": 1,
   "id": "9d19cd00",
   "metadata": {},
   "outputs": [
    {
     "name": "stdout",
     "output_type": "stream",
     "text": [
      "Enter the string: The quick Brow Fox\n",
      "No. of Upper case characters : 3\n",
      "No. of Lower case characters : 12\n"
     ]
    }
   ],
   "source": [
    "#Write a Python function that accepts a string and calculate the number of upper case letters and lower case letters.\n",
    "#Sample String : 'The quick Brow Fox'\n",
    "#Expected Output :\n",
    "#No. of Upper case characters : 3\n",
    "#No. of Lower case Characters : 12\n",
    "\n",
    "x=input(\"Enter the string: \")\n",
    "def up_low(x):\n",
    "  u=0\n",
    "  l=0\n",
    "  for i in x:\n",
    "      if i>='a' and i<='z':\n",
    "       l+=1\n",
    "\n",
    "      if i >='A' and i<='Z':\n",
    "       u+=1\n",
    "    \n",
    "  print(\"No. of Upper case characters :\",u)\n",
    "  print(\"No. of Lower case characters :\",l)\n",
    "up_low(x)"
   ]
  },
  {
   "cell_type": "code",
   "execution_count": null,
   "id": "18e29dea",
   "metadata": {},
   "outputs": [],
   "source": []
  }
 ],
 "metadata": {
  "kernelspec": {
   "display_name": "Python 3 (ipykernel)",
   "language": "python",
   "name": "python3"
  },
  "language_info": {
   "codemirror_mode": {
    "name": "ipython",
    "version": 3
   },
   "file_extension": ".py",
   "mimetype": "text/x-python",
   "name": "python",
   "nbconvert_exporter": "python",
   "pygments_lexer": "ipython3",
   "version": "3.9.12"
  }
 },
 "nbformat": 4,
 "nbformat_minor": 5
}
